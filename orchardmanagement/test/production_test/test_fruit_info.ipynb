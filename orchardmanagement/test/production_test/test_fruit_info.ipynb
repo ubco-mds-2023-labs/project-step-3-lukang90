{
 "cells": [
  {
   "cell_type": "code",
   "execution_count": 1,
   "id": "2912d98f",
   "metadata": {},
   "outputs": [],
   "source": [
    "import sys\n",
    "sys.path.append('../')\n",
    "import production.fruit_info as fruit_info"
   ]
  },
  {
   "cell_type": "markdown",
   "id": "ffba6467",
   "metadata": {},
   "source": [
    "This module is a test.py for fruit_info"
   ]
  },
  {
   "cell_type": "code",
   "execution_count": 2,
   "id": "8d7d1ace",
   "metadata": {},
   "outputs": [
    {
     "name": "stdout",
     "output_type": "stream",
     "text": [
      "big, less sour, very sweet, crunchy.It is good for pie\n",
      "small, median sour, median sweet, soft.It is good for cans\n",
      "big, less sour, very sweet, crunchy.It is good for pie\n"
     ]
    }
   ],
   "source": [
    "a1 = fruit_info.Apple(\"Ambrosia\", \"big\", \"very sweet\", \"less sour\", \"crunchy\", 1.2, \"pie\")\n",
    "p1 = fruit_info.Peach(\"Elberta\", \"big\", \"very sweet\", \"less sour\", \"crunchy\", 1.2, \"pie\")\n",
    "c1 = fruit_info.Cherry(\"Lapins\", \"small\", \"median sweet\", \"median sour\", \"soft\", 2.99, \"cans\")\n",
    "\n",
    "print(a1.describe())\n",
    "print(c1.describe())\n",
    "print(p1.describe())"
   ]
  },
  {
   "cell_type": "code",
   "execution_count": 3,
   "id": "b91beb1f",
   "metadata": {},
   "outputs": [
    {
     "name": "stdout",
     "output_type": "stream",
     "text": [
      "1\n",
      "2\n",
      "3\n"
     ]
    }
   ],
   "source": [
    "print(a1.get_type_num())\n",
    "print(c1.get_type_num())\n",
    "print(p1.get_type_num())"
   ]
  },
  {
   "cell_type": "code",
   "execution_count": 4,
   "id": "6e7be17f",
   "metadata": {},
   "outputs": [
    {
     "name": "stdout",
     "output_type": "stream",
     "text": [
      "1.2\n"
     ]
    }
   ],
   "source": [
    "print(a1.get_price())"
   ]
  },
  {
   "cell_type": "code",
   "execution_count": 5,
   "id": "44c01c21",
   "metadata": {},
   "outputs": [
    {
     "name": "stdout",
     "output_type": "stream",
     "text": [
      "Ambrosia Apple is available now\n",
      "Sorry, Lapins Cherry season has ended.\n",
      "Elberta Peach is available now\n"
     ]
    },
    {
     "data": {
      "text/plain": [
       "True"
      ]
     },
     "execution_count": 5,
     "metadata": {},
     "output_type": "execute_result"
    }
   ],
   "source": [
    "fruit_info.fruit_available_check(\"9-10\", a1)\n",
    "fruit_info.fruit_available_check(\"9-10\", c1)\n",
    "fruit_info.fruit_available_check(\"9-10\", p1)"
   ]
  },
  {
   "cell_type": "code",
   "execution_count": 6,
   "id": "ffd54b9b",
   "metadata": {},
   "outputs": [
    {
     "name": "stdout",
     "output_type": "stream",
     "text": [
      "<production.fruit_info.Apple object at 0x000002743261DFD0>\n",
      "<production.fruit_info.Peach object at 0x000002743261DEB0>\n"
     ]
    }
   ],
   "source": [
    "fruit_list = [a1, p1, c1]\n",
    "fruit_available_list = fruit_info.available_season_fruit(\"9-10\", fruit_list)\n",
    "for f in fruit_available_list:\n",
    "    print(f)"
   ]
  },
  {
   "cell_type": "code",
   "execution_count": 7,
   "id": "0ce2cf7f",
   "metadata": {},
   "outputs": [
    {
     "name": "stdout",
     "output_type": "stream",
     "text": [
      "[['1', 'Ambrosia', 'big', 'very sweet', 'less sour', 'crunchy', '1.2', 'pie'], ['3', 'Elberta', 'big', 'very sweet', 'less sour', 'crunchy', '1.2', 'pie'], ['2', 'Lapins', 'small', 'median sweet', 'median sour', 'soft', '2.99', 'cans']]\n"
     ]
    }
   ],
   "source": [
    "# save and load test\n",
    "file_path = \"fruits_test.csv\"\n",
    "fruit_info.fruit_information_store(fruit_list,file_path)\n",
    "print(fruit_info.file_load(file_path))"
   ]
  },
  {
   "cell_type": "code",
   "execution_count": 8,
   "id": "fbd0bc09",
   "metadata": {},
   "outputs": [
    {
     "name": "stdout",
     "output_type": "stream",
     "text": [
      "big, less sour, very sweet, crunchy.It is good for pie\n",
      "big, less sour, very sweet, crunchy.It is good for pie\n",
      "small, median sour, median sweet, soft.It is good for cans\n"
     ]
    }
   ],
   "source": [
    "fruit_list = fruit_info.fruit_class_load(file_path)\n",
    "for i in fruit_list:\n",
    "    print(i.describe())"
   ]
  },
  {
   "cell_type": "code",
   "execution_count": 9,
   "id": "a604707a",
   "metadata": {},
   "outputs": [
    {
     "name": "stdout",
     "output_type": "stream",
     "text": [
      "big, less sour, very sweet, crunchy.It is good for pie\n"
     ]
    }
   ],
   "source": [
    "fruit_searched = fruit_info.get_fruit(1, \"Ambrosia\", fruit_list)\n",
    "print(fruit_searched.describe())"
   ]
  },
  {
   "cell_type": "code",
   "execution_count": 10,
   "id": "bba6006d",
   "metadata": {},
   "outputs": [
    {
     "name": "stdout",
     "output_type": "stream",
     "text": [
      "4\n",
      "Fail to add new fruit, the input fruit is already exist\n"
     ]
    }
   ],
   "source": [
    "# Success and no response\n",
    "fruit_info.add_fruit(1,\"Gala\", \"big\", \"very sweet\", \"less sour\", \"crunchy\", 1.2, \"pie\", file_path)\n",
    "fruit_info.remove_fruit(1, \"Gala\",file_path)\n",
    "# Should fail because it try to add an exist fruit\n",
    "fruit_info.add_fruit(1,\"Ambrosia\", \"big\", \"very sweet\", \"less sour\", \"crunchy\", 1.2, \"pie\", file_path)"
   ]
  },
  {
   "cell_type": "code",
   "execution_count": null,
   "id": "bd0a2393",
   "metadata": {},
   "outputs": [],
   "source": []
  }
 ],
 "metadata": {
  "kernelspec": {
   "display_name": "Python 3 (ipykernel)",
   "language": "python",
   "name": "python3"
  },
  "language_info": {
   "codemirror_mode": {
    "name": "ipython",
    "version": 3
   },
   "file_extension": ".py",
   "mimetype": "text/x-python",
   "name": "python",
   "nbconvert_exporter": "python",
   "pygments_lexer": "ipython3",
   "version": "3.9.13"
  },
  "varInspector": {
   "cols": {
    "lenName": 16,
    "lenType": 16,
    "lenVar": 40
   },
   "kernels_config": {
    "python": {
     "delete_cmd_postfix": "",
     "delete_cmd_prefix": "del ",
     "library": "var_list.py",
     "varRefreshCmd": "print(var_dic_list())"
    },
    "r": {
     "delete_cmd_postfix": ") ",
     "delete_cmd_prefix": "rm(",
     "library": "var_list.r",
     "varRefreshCmd": "cat(var_dic_list()) "
    }
   },
   "types_to_exclude": [
    "module",
    "function",
    "builtin_function_or_method",
    "instance",
    "_Feature"
   ],
   "window_display": false
  }
 },
 "nbformat": 4,
 "nbformat_minor": 5
}
