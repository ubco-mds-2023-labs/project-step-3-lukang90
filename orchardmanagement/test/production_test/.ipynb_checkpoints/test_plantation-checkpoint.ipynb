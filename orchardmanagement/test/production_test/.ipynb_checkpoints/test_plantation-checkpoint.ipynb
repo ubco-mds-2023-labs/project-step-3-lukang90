{
 "cells": [
  {
   "cell_type": "code",
   "execution_count": 1,
   "id": "63e04c7d",
   "metadata": {},
   "outputs": [],
   "source": [
    "import sys\n",
    "sys.path.append('../')\n",
    "import production.fruit_info as fruit_info\n",
    "import production.plantation as plantation"
   ]
  },
  {
   "cell_type": "code",
   "execution_count": 2,
   "id": "077f8747",
   "metadata": {},
   "outputs": [
    {
     "name": "stdout",
     "output_type": "stream",
     "text": [
      "market\n",
      "market\n",
      "pick\n"
     ]
    }
   ],
   "source": [
    "fruit_list = fruit_info.fruit_class_load(\"fruits_test.csv\")\n",
    "region_list = []\n",
    "area = 10\n",
    "## set up regions\n",
    "for i in range(0,len(fruit_list)):\n",
    "    fruit = fruit_list[i]\n",
    "    fruit_type_num = fruit.get_type_num()\n",
    "    fruit_variety = fruit.variety\n",
    "    area += 10\n",
    "    region = plantation.Region(i+1, fruit_type_num, fruit_variety, area, areaType= \"market\")\n",
    "    if i >= 1:\n",
    "        region = plantation.set_picking_region(region)\n",
    "        if i == 1:\n",
    "            region = plantation.set_marketing_region(region)\n",
    "    region_list.append(region)\n",
    "for i in region_list:\n",
    "    print(i.get_area_type())"
   ]
  },
  {
   "cell_type": "code",
   "execution_count": 3,
   "id": "2a888f98",
   "metadata": {},
   "outputs": [
    {
     "name": "stdout",
     "output_type": "stream",
     "text": [
      "   regionId  fruit_type_num   variety  area areaType\n",
      "0         1               1  Ambrosia    20   market\n",
      "1         2               3   Elberta    30   market\n",
      "2         3               2    Lapins    40     pick\n"
     ]
    }
   ],
   "source": [
    "plantation_file = \"../production_test/plantations_test.csv\"\n",
    "plantation.region_saving(plantation_file, region_list)\n",
    "\n",
    "df_region = plantation.region_loading(plantation_file)\n",
    "print(df_region)"
   ]
  },
  {
   "cell_type": "code",
   "execution_count": 4,
   "id": "b0c5e55c",
   "metadata": {},
   "outputs": [
    {
     "name": "stdout",
     "output_type": "stream",
     "text": [
      "[<production.plantation.Region object at 0x0000018B2593D730>, <production.plantation.Region object at 0x0000018B2593D700>, <production.plantation.Region object at 0x0000018B2593D6A0>]\n",
      "<production.plantation.Region object at 0x0000018B2593D730>\n",
      "<production.fruit_info.Apple object at 0x0000018B258E5100>\n",
      "<production.plantation.Region object at 0x0000018B2593D700>\n",
      "<production.fruit_info.Peach object at 0x0000018B258E5160>\n",
      "<production.plantation.Region object at 0x0000018B2593D6A0>\n",
      "<production.fruit_info.Cherry object at 0x0000018B258E5190>\n"
     ]
    }
   ],
   "source": [
    "region_list = plantation.region_class_tranfer(df_region)\n",
    "print(region_list)\n",
    "for region in region_list:\n",
    "    print(region)\n",
    "    print(region.get_fruit(fruit_list))"
   ]
  },
  {
   "cell_type": "code",
   "execution_count": 5,
   "id": "f2ae5eb5",
   "metadata": {},
   "outputs": [
    {
     "name": "stdout",
     "output_type": "stream",
     "text": [
      "[]\n",
      "[1]\n"
     ]
    }
   ],
   "source": [
    "r1, r2 = plantation.fruit_index_list(region_list,1, \"Ambrosia\")\n",
    "print(r1)\n",
    "print(r2)"
   ]
  },
  {
   "cell_type": "code",
   "execution_count": 6,
   "id": "e8e96b1b",
   "metadata": {},
   "outputs": [
    {
     "name": "stdout",
     "output_type": "stream",
     "text": [
      "(0, 20)\n"
     ]
    }
   ],
   "source": [
    "print(plantation.area_amount_variety(region_list, 1, \"Ambrosia\"))"
   ]
  },
  {
   "cell_type": "code",
   "execution_count": 7,
   "id": "220273f6",
   "metadata": {},
   "outputs": [
    {
     "name": "stdout",
     "output_type": "stream",
     "text": [
      "                        Ambrosia apple Elberta peach Lapins cherry\n",
      "pick_area                            0             0            40\n",
      "picking_regions_index           [None]        [None]           [3]\n",
      "market_area                         20            30             0\n",
      "marketing_regions_index            [1]           [2]        [None]\n"
     ]
    }
   ],
   "source": [
    "df_summary = plantation.region_summary(fruit_list,region_list)\n",
    "print(df_summary)"
   ]
  },
  {
   "cell_type": "code",
   "execution_count": 8,
   "id": "22552949",
   "metadata": {},
   "outputs": [
    {
     "name": "stdout",
     "output_type": "stream",
     "text": [
      "           picking_area marketing_area\n",
      "1 Ambrosia            0             20\n",
      "3 Elberta             0             30\n",
      "2 Lapins             40              0\n"
     ]
    }
   ],
   "source": [
    "d = plantation.area_summary(fruit_list, region_list)\n",
    "print(d)"
   ]
  },
  {
   "cell_type": "code",
   "execution_count": 9,
   "id": "a4d1dc8d",
   "metadata": {},
   "outputs": [
    {
     "name": "stdout",
     "output_type": "stream",
     "text": [
      "Region 1: Ambrosia apple. Region Type: market. Area: 20\n",
      "Region 2: Elberta peach. Region Type: market. Area: 30\n",
      "Region 3: Lapins cherry. Region Type: pick. Area: 40\n"
     ]
    }
   ],
   "source": [
    "for region in region_list:\n",
    "    region.region_display(fruit_list)"
   ]
  },
  {
   "cell_type": "code",
   "execution_count": 10,
   "id": "2fbf7828",
   "metadata": {},
   "outputs": [
    {
     "name": "stdout",
     "output_type": "stream",
     "text": [
      "<production.plantation.Region object at 0x0000018B2593D730>\n"
     ]
    }
   ],
   "source": [
    "region_searched = plantation.get_region(1,region_list)\n",
    "print(region_searched)"
   ]
  },
  {
   "cell_type": "code",
   "execution_count": 11,
   "id": "738dd55c",
   "metadata": {},
   "outputs": [
    {
     "name": "stdout",
     "output_type": "stream",
     "text": [
      "Fail to add region, input region is exist now\n"
     ]
    }
   ],
   "source": [
    "# test add_region \n",
    "\n",
    "# fail to add new region because regionId existed\n",
    "plantation.add_region(3,2,\"Lapins\",40,\"pick\",\n",
    "                      fruit_list, plantation_file)\n",
    "# success\n",
    "plantation.add_region(4,2,\"Lapins\",40,\"pick\",\n",
    "                      fruit_list, plantation_file)"
   ]
  },
  {
   "cell_type": "code",
   "execution_count": null,
   "id": "ddacac61",
   "metadata": {},
   "outputs": [],
   "source": []
  }
 ],
 "metadata": {
  "kernelspec": {
   "display_name": "Python 3 (ipykernel)",
   "language": "python",
   "name": "python3"
  },
  "language_info": {
   "codemirror_mode": {
    "name": "ipython",
    "version": 3
   },
   "file_extension": ".py",
   "mimetype": "text/x-python",
   "name": "python",
   "nbconvert_exporter": "python",
   "pygments_lexer": "ipython3",
   "version": "3.9.13"
  },
  "varInspector": {
   "cols": {
    "lenName": 16,
    "lenType": 16,
    "lenVar": 40
   },
   "kernels_config": {
    "python": {
     "delete_cmd_postfix": "",
     "delete_cmd_prefix": "del ",
     "library": "var_list.py",
     "varRefreshCmd": "print(var_dic_list())"
    },
    "r": {
     "delete_cmd_postfix": ") ",
     "delete_cmd_prefix": "rm(",
     "library": "var_list.r",
     "varRefreshCmd": "cat(var_dic_list()) "
    }
   },
   "types_to_exclude": [
    "module",
    "function",
    "builtin_function_or_method",
    "instance",
    "_Feature"
   ],
   "window_display": false
  }
 },
 "nbformat": 4,
 "nbformat_minor": 5
}
