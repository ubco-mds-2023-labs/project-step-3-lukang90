{
 "cells": [
  {
   "cell_type": "code",
   "execution_count": 1,
   "id": "initial_id",
   "metadata": {
    "collapsed": true,
    "ExecuteTime": {
     "end_time": "2023-12-05T06:56:19.731569200Z",
     "start_time": "2023-12-05T06:56:18.318646800Z"
    }
   },
   "outputs": [],
   "source": [
    "import pandas as pd\n",
    "from management.sales import SalesManagement\n",
    "from management.inventory import InventoryManagement"
   ]
  },
  {
   "cell_type": "markdown",
   "source": [
    "Initial all the data file"
   ],
   "metadata": {
    "collapsed": false
   },
   "id": "6c3ac6723cd0958"
  },
  {
   "cell_type": "code",
   "execution_count": 2,
   "outputs": [],
   "source": [
    "def clear_csv_file(file_path):\n",
    "    # Read the CSV file, keeping only the column names\n",
    "    df = pd.read_csv(file_path, nrows=0)\n",
    "    # Overwrite the file, writing only the column names\n",
    "    df.to_csv(file_path, index=False)\n",
    "\n",
    "clear_csv_file(\"orders.csv\")\n",
    "inventory_file = \"inventory.csv\"\n",
    "remaining_productivity_file = \"remaining_productivity.csv\"\n",
    "extra_productivity_file = \"extra_productivity.csv\"\n",
    "order_file = \"orders.csv\"\n",
    "fruit_file = \"fruits.csv\"\n",
    "plantation_file = \"plantation.csv\""
   ],
   "metadata": {
    "collapsed": false,
    "ExecuteTime": {
     "end_time": "2023-12-05T06:56:21.577328100Z",
     "start_time": "2023-12-05T06:56:21.552768600Z"
    }
   },
   "id": "d440ba45e2f535de"
  },
  {
   "cell_type": "markdown",
   "source": [
    "Create an InventoryManagement instance"
   ],
   "metadata": {
    "collapsed": false
   },
   "id": "f3ac26997aa5d456"
  },
  {
   "cell_type": "code",
   "execution_count": 3,
   "outputs": [],
   "source": [
    "inventory_manager = InventoryManagement(extra_productivity_file, remaining_productivity_file, inventory_file, plantation_file, fruit_file)"
   ],
   "metadata": {
    "collapsed": false,
    "ExecuteTime": {
     "end_time": "2023-12-05T06:56:24.199401400Z",
     "start_time": "2023-12-05T06:56:23.815251200Z"
    }
   },
   "id": "41f847851cd510d8"
  },
  {
   "cell_type": "markdown",
   "source": [
    "Create a SalesManagement instance and pass the InventoryManagement instance to it"
   ],
   "metadata": {
    "collapsed": false
   },
   "id": "64ffca19bf868d69"
  },
  {
   "cell_type": "code",
   "execution_count": 4,
   "outputs": [],
   "source": [
    "sales_manager = SalesManagement(inventory_manager, order_file)"
   ],
   "metadata": {
    "collapsed": false,
    "ExecuteTime": {
     "end_time": "2023-12-05T06:56:30.355019300Z",
     "start_time": "2023-12-05T06:56:30.310177600Z"
    }
   },
   "id": "ffb9d218c13bc7d9"
  },
  {
   "cell_type": "markdown",
   "source": [
    "Checks if selling a specified quantity of fruits is possible"
   ],
   "metadata": {
    "collapsed": false
   },
   "id": "97a0b27d9f7b5047"
  },
  {
   "cell_type": "code",
   "execution_count": 5,
   "outputs": [
    {
     "name": "stdout",
     "output_type": "stream",
     "text": [
      "   index  Ambrosia  Gala  Honeycrisp  Lapins  Sweetheart  Skeena  Redhaven  \\\n",
      "4      5       300   300         300     500           0       0         0   \n",
      "\n",
      "   Elberta  Cresthaven  \n",
      "4      400           0  \n",
      "300\n",
      "Inventory of Ambrosia is enough for this order.\n"
     ]
    }
   ],
   "source": [
    "sales_manager.check_inventory('Ambrosia', 3)"
   ],
   "metadata": {
    "collapsed": false,
    "ExecuteTime": {
     "end_time": "2023-12-05T06:56:32.007302800Z",
     "start_time": "2023-12-05T06:56:31.992367100Z"
    }
   },
   "id": "535a4e4f884a0700"
  },
  {
   "cell_type": "markdown",
   "source": [
    "Add some orders, including picking and selling types"
   ],
   "metadata": {
    "collapsed": false
   },
   "id": "94eebd1a23e715dc"
  },
  {
   "cell_type": "code",
   "execution_count": 6,
   "outputs": [],
   "source": [
    "sales_manager.add_order('selling', 'Ambrosia', 50)\n",
    "sales_manager.add_order('selling', 'Elberta', 50)\n",
    "sales_manager.add_order('picking', 'Lapins', 40)"
   ],
   "metadata": {
    "collapsed": false,
    "ExecuteTime": {
     "end_time": "2023-12-05T06:56:34.081147Z",
     "start_time": "2023-12-05T06:56:34.037923100Z"
    }
   },
   "id": "dfecba197a65acdf"
  },
  {
   "cell_type": "markdown",
   "source": [
    "Display order data"
   ],
   "metadata": {
    "collapsed": false
   },
   "id": "1b9e11ee280cd0fe"
  },
  {
   "cell_type": "code",
   "execution_count": 7,
   "outputs": [
    {
     "name": "stdout",
     "output_type": "stream",
     "text": [
      "  index sales_type fruit_type fruit_variety weight  unit_price  revenue\n",
      "0     1    selling          1      Ambrosia     50        1.20     60.0\n",
      "1     2    selling          3       Elberta     50        1.20     60.0\n",
      "2     3    picking          2        Lapins     40        2.99    119.6\n"
     ]
    }
   ],
   "source": [
    "sales_manager.order_display()"
   ],
   "metadata": {
    "collapsed": false,
    "ExecuteTime": {
     "end_time": "2023-12-05T06:56:36.320363600Z",
     "start_time": "2023-12-05T06:56:36.303256100Z"
    }
   },
   "id": "95798d3a7e70380f"
  },
  {
   "cell_type": "markdown",
   "source": [
    "Display total revenue grouped by 'sales_type'"
   ],
   "metadata": {
    "collapsed": false
   },
   "id": "7c1a2ed2d33dbdab"
  },
  {
   "cell_type": "code",
   "execution_count": 8,
   "outputs": [
    {
     "name": "stdout",
     "output_type": "stream",
     "text": [
      "  sales_type  revenue\n",
      "0    picking    119.6\n",
      "1    selling    120.0\n"
     ]
    }
   ],
   "source": [
    "sales_manager.revenue_display('sales_type')"
   ],
   "metadata": {
    "collapsed": false,
    "ExecuteTime": {
     "end_time": "2023-12-05T06:56:37.665754800Z",
     "start_time": "2023-12-05T06:56:37.655213500Z"
    }
   },
   "id": "daf6183573bd4526"
  },
  {
   "cell_type": "markdown",
   "source": [
    "Display total revenue grouped by 'fruit_type'"
   ],
   "metadata": {
    "collapsed": false
   },
   "id": "bf538711e2e4eb9e"
  },
  {
   "cell_type": "code",
   "execution_count": 9,
   "outputs": [
    {
     "name": "stdout",
     "output_type": "stream",
     "text": [
      "   fruit_type  revenue\n",
      "0           1     60.0\n",
      "1           2    119.6\n",
      "2           3     60.0\n"
     ]
    }
   ],
   "source": [
    "sales_manager.revenue_display('fruit_type')"
   ],
   "metadata": {
    "collapsed": false,
    "ExecuteTime": {
     "end_time": "2023-12-05T06:56:38.878468900Z",
     "start_time": "2023-12-05T06:56:38.860232400Z"
    }
   },
   "id": "ce92ebd0d491e83b"
  },
  {
   "cell_type": "markdown",
   "source": [
    "Display a pie chart of revenue distribution by 'fruit_type'"
   ],
   "metadata": {
    "collapsed": false
   },
   "id": "49b1fb416189941a"
  },
  {
   "cell_type": "code",
   "execution_count": 10,
   "outputs": [
    {
     "data": {
      "text/plain": "<Figure size 800x800 with 1 Axes>",
      "image/png": "[encoded data removed]"
     },
     "metadata": {},
     "output_type": "display_data"
    }
   ],
   "source": [
    "sales_manager.revenue_plotter()"
   ],
   "metadata": {
    "collapsed": false,
    "ExecuteTime": {
     "end_time": "2023-12-05T06:56:40.207287600Z",
     "start_time": "2023-12-05T06:56:40.028136600Z"
    }
   },
   "id": "828fb8a118c87db9"
  },
  {
   "cell_type": "code",
   "execution_count": null,
   "outputs": [],
   "source": [],
   "metadata": {
    "collapsed": false
   },
   "id": "1fba798dc304032c"
  }
 ],
 "metadata": {
  "kernelspec": {
   "display_name": "Python 3",
   "language": "python",
   "name": "python3"
  },
  "language_info": {
   "codemirror_mode": {
    "name": "ipython",
    "version": 2
   },
   "file_extension": ".py",
   "mimetype": "text/x-python",
   "name": "python",
   "nbconvert_exporter": "python",
   "pygments_lexer": "ipython2",
   "version": "2.7.6"
  }
 },
 "nbformat": 4,
 "nbformat_minor": 5
}
