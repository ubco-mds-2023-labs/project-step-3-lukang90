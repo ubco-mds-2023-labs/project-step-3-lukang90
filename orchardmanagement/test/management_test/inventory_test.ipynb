{
 "cells": [
  {
   "cell_type": "code",
   "execution_count": 1,
   "metadata": {
    "ExecuteTime": {
     "end_time": "2023-12-05T06:55:31.807688400Z",
     "start_time": "2023-12-05T06:55:30.047266700Z"
    }
   },
   "outputs": [],
   "source": [
    "import pandas as pd\n",
    "from management.inventory import InventoryManagement\n",
    "from management.inventory import HistoricalPlotter"
   ]
  },
  {
   "cell_type": "markdown",
   "metadata": {},
   "source": [
    "Initial all the data file and create an InventoryManagement instance"
   ]
  },
  {
   "cell_type": "code",
   "execution_count": 2,
   "metadata": {
    "ExecuteTime": {
     "end_time": "2023-12-05T06:55:34.549725800Z",
     "start_time": "2023-12-05T06:55:34.490911500Z"
    }
   },
   "outputs": [],
   "source": [
    "def clear_csv_file(file_path):\n",
    "    # Read the CSV file, keeping only the column names\n",
    "    df = pd.read_csv(file_path, nrows=0)\n",
    "    # Overwrite the file, writing only the column names\n",
    "    df.to_csv(file_path, index=False)\n",
    "\n",
    "\n",
    "clear_csv_file(\"inventory.csv\")\n",
    "clear_csv_file(\"remaining_productivity.csv\")\n",
    "clear_csv_file(\"extra_productivity.csv\")\n",
    "\n",
    "inventory_file = \"inventory.csv\"\n",
    "remaining_productivity_file = \"remaining_productivity.csv\"\n",
    "extra_productivity_file = \"extra_productivity.csv\"\n",
    "plantation_file = \"plantations.csv\"\n",
    "fruit_file = \"fruits.csv\"\n",
    "\n",
    "inventory_manager = InventoryManagement(extra_productivity_file, remaining_productivity_file, inventory_file, plantation_file, fruit_file)\n"
   ]
  },
  {
   "cell_type": "markdown",
   "metadata": {},
   "source": [
    "Initialize the data in remaining_productivity.csv by estimate production in all varieties and show the result."
   ]
  },
  {
   "cell_type": "code",
   "execution_count": 3,
   "metadata": {
    "ExecuteTime": {
     "end_time": "2023-12-05T06:55:37.714331800Z",
     "start_time": "2023-12-05T06:55:37.653379800Z"
    }
   },
   "outputs": [
    {
     "name": "stdout",
     "output_type": "stream",
     "text": [
      "   index  Ambrosia  Gala  Honeycrisp  Lapins  Sweetheart  Skeena  Redhaven  \\\n",
      "0      1     30000     0           0   40000           0       0         0   \n",
      "\n",
      "   Elberta  Cresthaven  \n",
      "0    54000           0  \n"
     ]
    },
    {
     "data": {
      "text/plain": "   index  Ambrosia  Gala  Honeycrisp  Lapins  Sweetheart  Skeena  Redhaven  \\\n0      1     30000     0           0   40000           0       0         0   \n\n   Elberta  Cresthaven  \n0    54000           0  ",
      "text/html": "<div>\n<style scoped>\n    .dataframe tbody tr th:only-of-type {\n        vertical-align: middle;\n    }\n\n    .dataframe tbody tr th {\n        vertical-align: top;\n    }\n\n    .dataframe thead th {\n        text-align: right;\n    }\n</style>\n<table border=\"1\" class=\"dataframe\">\n  <thead>\n    <tr style=\"text-align: right;\">\n      <th></th>\n      <th>index</th>\n      <th>Ambrosia</th>\n      <th>Gala</th>\n      <th>Honeycrisp</th>\n      <th>Lapins</th>\n      <th>Sweetheart</th>\n      <th>Skeena</th>\n      <th>Redhaven</th>\n      <th>Elberta</th>\n      <th>Cresthaven</th>\n    </tr>\n  </thead>\n  <tbody>\n    <tr>\n      <th>0</th>\n      <td>1</td>\n      <td>30000</td>\n      <td>0</td>\n      <td>0</td>\n      <td>40000</td>\n      <td>0</td>\n      <td>0</td>\n      <td>0</td>\n      <td>54000</td>\n      <td>0</td>\n    </tr>\n  </tbody>\n</table>\n</div>"
     },
     "execution_count": 3,
     "metadata": {},
     "output_type": "execute_result"
    }
   ],
   "source": [
    "inventory_manager.total_product_estimate()\n",
    "inventory_manager.get_remaining_productivity()"
   ]
  },
  {
   "cell_type": "markdown",
   "source": [
    "Add some fruits into inventory"
   ],
   "metadata": {
    "collapsed": false
   }
  },
  {
   "cell_type": "code",
   "execution_count": 4,
   "outputs": [
    {
     "name": "stdout",
     "output_type": "stream",
     "text": [
      "  index Ambrosia Gala Honeycrisp Lapins Sweetheart Skeena Redhaven Elberta  \\\n",
      "2     3      300    0          0    500          0      0        0     400   \n",
      "\n",
      "  Cresthaven  \n",
      "2          0  \n"
     ]
    },
    {
     "data": {
      "text/plain": "  index Ambrosia Gala Honeycrisp Lapins Sweetheart Skeena Redhaven Elberta  \\\n2     3      300    0          0    500          0      0        0     400   \n\n  Cresthaven  \n2          0  ",
      "text/html": "<div>\n<style scoped>\n    .dataframe tbody tr th:only-of-type {\n        vertical-align: middle;\n    }\n\n    .dataframe tbody tr th {\n        vertical-align: top;\n    }\n\n    .dataframe thead th {\n        text-align: right;\n    }\n</style>\n<table border=\"1\" class=\"dataframe\">\n  <thead>\n    <tr style=\"text-align: right;\">\n      <th></th>\n      <th>index</th>\n      <th>Ambrosia</th>\n      <th>Gala</th>\n      <th>Honeycrisp</th>\n      <th>Lapins</th>\n      <th>Sweetheart</th>\n      <th>Skeena</th>\n      <th>Redhaven</th>\n      <th>Elberta</th>\n      <th>Cresthaven</th>\n    </tr>\n  </thead>\n  <tbody>\n    <tr>\n      <th>2</th>\n      <td>3</td>\n      <td>300</td>\n      <td>0</td>\n      <td>0</td>\n      <td>500</td>\n      <td>0</td>\n      <td>0</td>\n      <td>0</td>\n      <td>400</td>\n      <td>0</td>\n    </tr>\n  </tbody>\n</table>\n</div>"
     },
     "execution_count": 4,
     "metadata": {},
     "output_type": "execute_result"
    }
   ],
   "source": [
    "inventory_manager.add_inventory('Ambrosia', 300)\n",
    "inventory_manager.add_inventory('Elberta', 400)\n",
    "inventory_manager.add_inventory('Lapins', 500)\n",
    "inventory_manager.get_current_inventory()"
   ],
   "metadata": {
    "collapsed": false,
    "ExecuteTime": {
     "end_time": "2023-12-05T06:55:41.605997Z",
     "start_time": "2023-12-05T06:55:41.530317200Z"
    }
   }
  },
  {
   "cell_type": "markdown",
   "source": [
    "Remove inventory of some fruits"
   ],
   "metadata": {
    "collapsed": false
   }
  },
  {
   "cell_type": "code",
   "execution_count": 5,
   "outputs": [
    {
     "name": "stdout",
     "output_type": "stream",
     "text": [
      "  index Ambrosia Gala Honeycrisp Lapins Sweetheart Skeena Redhaven Elberta  \\\n",
      "2     3      300    0          0    500          0      0        0     400   \n",
      "\n",
      "  Cresthaven  \n",
      "2          0  \n"
     ]
    },
    {
     "data": {
      "text/plain": "  index Ambrosia Gala Honeycrisp Lapins Sweetheart Skeena Redhaven Elberta  \\\n2     3      300    0          0    500          0      0        0     400   \n\n  Cresthaven  \n2          0  ",
      "text/html": "<div>\n<style scoped>\n    .dataframe tbody tr th:only-of-type {\n        vertical-align: middle;\n    }\n\n    .dataframe tbody tr th {\n        vertical-align: top;\n    }\n\n    .dataframe thead th {\n        text-align: right;\n    }\n</style>\n<table border=\"1\" class=\"dataframe\">\n  <thead>\n    <tr style=\"text-align: right;\">\n      <th></th>\n      <th>index</th>\n      <th>Ambrosia</th>\n      <th>Gala</th>\n      <th>Honeycrisp</th>\n      <th>Lapins</th>\n      <th>Sweetheart</th>\n      <th>Skeena</th>\n      <th>Redhaven</th>\n      <th>Elberta</th>\n      <th>Cresthaven</th>\n    </tr>\n  </thead>\n  <tbody>\n    <tr>\n      <th>2</th>\n      <td>3</td>\n      <td>300</td>\n      <td>0</td>\n      <td>0</td>\n      <td>500</td>\n      <td>0</td>\n      <td>0</td>\n      <td>0</td>\n      <td>400</td>\n      <td>0</td>\n    </tr>\n  </tbody>\n</table>\n</div>"
     },
     "execution_count": 5,
     "metadata": {},
     "output_type": "execute_result"
    }
   ],
   "source": [
    "inventory_manager.remove_inventory('Ambrosia', 50)\n",
    "inventory_manager.remove_inventory('Elberta', 100)\n",
    "inventory_manager.get_current_inventory()"
   ],
   "metadata": {
    "collapsed": false,
    "ExecuteTime": {
     "end_time": "2023-12-05T06:55:44.743351700Z",
     "start_time": "2023-12-05T06:55:44.690027300Z"
    }
   }
  },
  {
   "cell_type": "markdown",
   "source": [
    "When the production is **more than estimated capacity** save it in extra_productivity in the same time"
   ],
   "metadata": {
    "collapsed": false
   }
  },
  {
   "cell_type": "code",
   "execution_count": 6,
   "outputs": [
    {
     "name": "stdout",
     "output_type": "stream",
     "text": [
      "The product of Honeycrisp exceeds expectations and will be recorded in the extra_productivity file.\n",
      "The product of Gala exceeds expectations and will be recorded in the extra_productivity file.\n",
      "  index Ambrosia Gala Honeycrisp Lapins Sweetheart Skeena Redhaven Elberta  \\\n",
      "4     5      300  300        300    500          0      0        0     400   \n",
      "\n",
      "  Cresthaven  \n",
      "4          0  \n",
      "  index Ambrosia Gala Honeycrisp Lapins Sweetheart Skeena Redhaven Elberta  \\\n",
      "3     6      300  300        300    500          0      0        0     300   \n",
      "\n",
      "  Cresthaven  \n",
      "3          0  \n"
     ]
    },
    {
     "data": {
      "text/plain": "  index Ambrosia Gala Honeycrisp Lapins Sweetheart Skeena Redhaven Elberta  \\\n3     6      300  300        300    500          0      0        0     300   \n\n  Cresthaven  \n3          0  ",
      "text/html": "<div>\n<style scoped>\n    .dataframe tbody tr th:only-of-type {\n        vertical-align: middle;\n    }\n\n    .dataframe tbody tr th {\n        vertical-align: top;\n    }\n\n    .dataframe thead th {\n        text-align: right;\n    }\n</style>\n<table border=\"1\" class=\"dataframe\">\n  <thead>\n    <tr style=\"text-align: right;\">\n      <th></th>\n      <th>index</th>\n      <th>Ambrosia</th>\n      <th>Gala</th>\n      <th>Honeycrisp</th>\n      <th>Lapins</th>\n      <th>Sweetheart</th>\n      <th>Skeena</th>\n      <th>Redhaven</th>\n      <th>Elberta</th>\n      <th>Cresthaven</th>\n    </tr>\n  </thead>\n  <tbody>\n    <tr>\n      <th>3</th>\n      <td>6</td>\n      <td>300</td>\n      <td>300</td>\n      <td>300</td>\n      <td>500</td>\n      <td>0</td>\n      <td>0</td>\n      <td>0</td>\n      <td>300</td>\n      <td>0</td>\n    </tr>\n  </tbody>\n</table>\n</div>"
     },
     "execution_count": 6,
     "metadata": {},
     "output_type": "execute_result"
    }
   ],
   "source": [
    "inventory_manager.add_inventory(\"Honeycrisp\", 300)\n",
    "inventory_manager.add_inventory(\"Gala\", 300)\n",
    "inventory_manager.get_current_inventory()\n",
    "inventory_manager.get_extra_productivity()"
   ],
   "metadata": {
    "collapsed": false,
    "ExecuteTime": {
     "end_time": "2023-12-05T06:55:47.764315700Z",
     "start_time": "2023-12-05T06:55:47.702971800Z"
    }
   }
  },
  {
   "cell_type": "markdown",
   "source": [
    "Show inventory in plot"
   ],
   "metadata": {
    "collapsed": false
   }
  },
  {
   "cell_type": "code",
   "execution_count": 7,
   "outputs": [
    {
     "data": {
      "text/plain": "<Figure size 640x480 with 1 Axes>",
      "image/png": "[encoded data removed]"
     },
     "metadata": {},
     "output_type": "display_data"
    }
   ],
   "source": [
    "plotter = HistoricalPlotter(remaining_productivity_file, inventory_file)\n",
    "plotter.plot_historical_data(1, 1)"
   ],
   "metadata": {
    "collapsed": false,
    "ExecuteTime": {
     "end_time": "2023-12-05T06:55:52.287013100Z",
     "start_time": "2023-12-05T06:55:51.852125600Z"
    }
   }
  },
  {
   "cell_type": "code",
   "execution_count": null,
   "outputs": [],
   "source": [],
   "metadata": {
    "collapsed": false
   }
  }
 ],
 "metadata": {
  "kernelspec": {
   "display_name": "Python 3",
   "language": "python",
   "name": "python3"
  },
  "language_info": {
   "codemirror_mode": {
    "name": "ipython",
    "version": 3
   },
   "file_extension": ".py",
   "mimetype": "text/x-python",
   "name": "python",
   "nbconvert_exporter": "python",
   "pygments_lexer": "ipython3",
   "version": "3.11.4"
  }
 },
 "nbformat": 4,
 "nbformat_minor": 2
}
